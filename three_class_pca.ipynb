{
  "nbformat": 4,
  "nbformat_minor": 0,
  "metadata": {
    "colab": {
      "name": "three_class_pca.ipynb",
      "provenance": [],
      "collapsed_sections": [],
      "include_colab_link": true
    },
    "kernelspec": {
      "name": "python3",
      "display_name": "Python 3"
    }
  },
  "cells": [
    {
      "cell_type": "markdown",
      "metadata": {
        "id": "view-in-github",
        "colab_type": "text"
      },
      "source": [
        "<a href=\"https://colab.research.google.com/github/gbagolin/ttr-project/blob/master/three_class_pca.ipynb\" target=\"_parent\"><img src=\"https://colab.research.google.com/assets/colab-badge.svg\" alt=\"Open In Colab\"/></a>"
      ]
    },
    {
      "cell_type": "code",
      "metadata": {
        "id": "qKL9L6-Yo16h",
        "colab_type": "code",
        "colab": {}
      },
      "source": [
        "!wget -O three_classes.zip \"https://www.dropbox.com/s/yoaiztoj69p5g6m/three_classes.zip?dl=0\""
      ],
      "execution_count": null,
      "outputs": []
    },
    {
      "cell_type": "code",
      "metadata": {
        "id": "H1TtxYFGo3bj",
        "colab_type": "code",
        "colab": {}
      },
      "source": [
        "!unzip three_classes.zip"
      ],
      "execution_count": null,
      "outputs": []
    },
    {
      "cell_type": "code",
      "metadata": {
        "id": "su4QrEY2nmQS",
        "colab_type": "code",
        "colab": {}
      },
      "source": [
        "from sklearn.svm import SVC\n",
        "from upload_dataset import upload_dataset\n",
        "from matplotlib import pyplot as plt\n",
        "from sklearn.decomposition import PCA\n",
        "\n",
        "\n",
        "import numpy as np\n",
        "import cv2\n"
      ],
      "execution_count": 6,
      "outputs": []
    },
    {
      "cell_type": "code",
      "metadata": {
        "id": "ogQwMHw6ojPM",
        "colab_type": "code",
        "colab": {
          "base_uri": "https://localhost:8080/",
          "height": 69
        },
        "outputId": "3cb95546-da77-4a2b-9844-e05a3340ff4a"
      },
      "source": [
        "#Parameters initialization\n",
        "\n",
        "NUM_CLASSES = 3\n",
        "\n",
        "#Dataset initialization\n",
        "labels = []\n",
        "features = []\n",
        "class_list = range(3)\n",
        "\n",
        "for i in class_list: \n",
        "\n",
        "  print(\"Iteration: \", i)\n",
        "  tmp_dataset, tmp_labels = upload_dataset('three_classes/{0}/'.format(i), i)\n",
        "  labels.append(tmp_labels)\n",
        "\n",
        "  for img in tmp_dataset: \n",
        "    features.append(img.reshape(120000))"
      ],
      "execution_count": 8,
      "outputs": [
        {
          "output_type": "stream",
          "text": [
            "Iteration:  0\n",
            "Iteration:  1\n",
            "Iteration:  2\n"
          ],
          "name": "stdout"
        }
      ]
    },
    {
      "cell_type": "code",
      "metadata": {
        "id": "nwZ6EHbXJrJw",
        "colab_type": "code",
        "colab": {}
      },
      "source": [
        "X = np.array(features)"
      ],
      "execution_count": 18,
      "outputs": []
    },
    {
      "cell_type": "code",
      "metadata": {
        "id": "hX5KYFh_qKlT",
        "colab_type": "code",
        "colab": {}
      },
      "source": [
        "#Labels Declaration \n",
        "y = [] \n",
        "for label_list in labels:\n",
        "  for element in label_list: \n",
        "    y.append(element)"
      ],
      "execution_count": 19,
      "outputs": []
    },
    {
      "cell_type": "code",
      "metadata": {
        "id": "QCBx8wluqL_z",
        "colab_type": "code",
        "colab": {
          "base_uri": "https://localhost:8080/",
          "height": 52
        },
        "outputId": "cd47a3a6-cf58-4946-cf70-90d54a74aa93"
      },
      "source": [
        "from sklearn.model_selection import train_test_split\n",
        "random_state = 0\n",
        "# Split into train/test\n",
        "X_train, X_test, y_train, y_test = \\\n",
        "    train_test_split(X, y, test_size=0.1, stratify=y,\n",
        "                     random_state=random_state)\n",
        "\n",
        "y_train = np.array(y_train)\n",
        "y_test = np.array(y_test)\n",
        "\n",
        "print(\"N Elements train: \", X_train.shape[0])\n",
        "print(\"N Elements test: \", X_test.shape[0])"
      ],
      "execution_count": 20,
      "outputs": [
        {
          "output_type": "stream",
          "text": [
            "N Elements train:  2629\n",
            "N Elements test:  293\n"
          ],
          "name": "stdout"
        }
      ]
    },
    {
      "cell_type": "code",
      "metadata": {
        "id": "wqiY_ycHAr4O",
        "colab_type": "code",
        "colab": {
          "base_uri": "https://localhost:8080/",
          "height": 156
        },
        "outputId": "aeb0cbaf-9126-4f93-ca74-668e32e0d0fb"
      },
      "source": [
        "from sklearn.pipeline import make_pipeline\n",
        "from sklearn.neighbors import (KNeighborsClassifier,\n",
        "                               NeighborhoodComponentsAnalysis)\n",
        "from sklearn.preprocessing import StandardScaler\n",
        "#PCA model initialization\n",
        "model = make_pipeline(StandardScaler(),\n",
        "                    PCA(n_components=100,\n",
        "                        random_state=random_state))\n",
        "#PCA model training\n",
        "model.fit(X_train, y_train)"
      ],
      "execution_count": 21,
      "outputs": [
        {
          "output_type": "execute_result",
          "data": {
            "text/plain": [
              "Pipeline(memory=None,\n",
              "         steps=[('standardscaler',\n",
              "                 StandardScaler(copy=True, with_mean=True, with_std=True)),\n",
              "                ('pca',\n",
              "                 PCA(copy=True, iterated_power='auto', n_components=100,\n",
              "                     random_state=0, svd_solver='auto', tol=0.0,\n",
              "                     whiten=False))],\n",
              "         verbose=False)"
            ]
          },
          "metadata": {
            "tags": []
          },
          "execution_count": 21
        }
      ]
    },
    {
      "cell_type": "code",
      "metadata": {
        "id": "OVdZyPupAsvV",
        "colab_type": "code",
        "colab": {}
      },
      "source": [
        "#PCA data transformation\n",
        "X_train = model.transform(X_train)\n",
        "X_test = model.transform(X_test)"
      ],
      "execution_count": 22,
      "outputs": []
    },
    {
      "cell_type": "code",
      "metadata": {
        "id": "v3MzBE8bwZWK",
        "colab_type": "code",
        "colab": {}
      },
      "source": [
        "from sklearn import svm\n",
        "kernel = 'rbf'\n",
        "max_iteration = 10000\n",
        "classifier = svm.SVC(kernel=kernel, max_iter=max_iteration, C = 5).fit(X_train, y_train)"
      ],
      "execution_count": 25,
      "outputs": []
    },
    {
      "cell_type": "code",
      "metadata": {
        "id": "8C2UGQkGq5G7",
        "colab_type": "code",
        "colab": {
          "base_uri": "https://localhost:8080/",
          "height": 295
        },
        "outputId": "a4c729f7-6962-4175-f1c5-388628e33f0e"
      },
      "source": [
        "from sklearn.metrics import confusion_matrix\n",
        "from sklearn.metrics import plot_confusion_matrix\n",
        "\n",
        "disp = plot_confusion_matrix(classifier, X_test, y_test,\n",
        "                                 display_labels=class_list,\n",
        "                                 cmap=plt.cm.Reds,\n",
        "                                 normalize='true')\n",
        "\n",
        "disp.ax_.set_title(\"Normalized confusion matrix\")\n",
        "\n",
        "plt.show()"
      ],
      "execution_count": 24,
      "outputs": [
        {
          "output_type": "display_data",
          "data": {
            "image/png": "[encoded data removed]",
            "text/plain": [
              "<Figure size 432x288 with 2 Axes>"
            ]
          },
          "metadata": {
            "tags": [],
            "needs_background": "light"
          }
        }
      ]
    }
  ]
}