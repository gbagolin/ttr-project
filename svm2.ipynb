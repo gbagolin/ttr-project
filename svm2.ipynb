{
 "cells": [
  {
   "cell_type": "code",
   "execution_count": 3,
   "metadata": {},
   "outputs": [
    {
     "output_type": "stream",
     "name": "stdout",
     "text": "200 200\n"
    }
   ],
   "source": [
    "from sklearn.svm import SVC\n",
    "from upload_dataset import upload_dataset\n",
    "from matplotlib import pyplot as plt\n",
    "from sklearn.decomposition import PCA\n",
    "import numpy as np\n",
    "import cv2\n",
    "\n",
    "from feature_exctraction.resnet import FeaturesExtractor\n",
    "\n",
    "# Inizializzo i parametri\n",
    "\n",
    "\n",
    "\n",
    "# Inizializzo il modello di classificazione SVM\n",
    "\n",
    "dataset, labels = upload_dataset('train/face-a/', 20, 'minor')\n",
    "\n",
    "x_train = dataset[:,:4000]\n",
    "y_train = labels[:4000]\n",
    "\n",
    "x_test = dataset[:,4000:5000]\n",
    "y_test = labels[4000:5000]\n",
    "\n",
    "\n",
    "x_train = x_train.T\n",
    "x_test = x_test.T\n"
   ]
  },
  {
   "cell_type": "code",
   "execution_count": 6,
   "metadata": {},
   "outputs": [
    {
     "output_type": "stream",
     "name": "stdout",
     "text": "[[813.   5.]\n [178.   4.]]\nAccuratezza del classificatore: 81.70%\nPrecisione del classificatore rispetto alla classe 0: 0.82\nPrecisione del classificatore rispetto alla classe 1: 0.44\nRecall del classificatore rispetto alla classe 0: 0.99\nRecall del classificatore rispetto alla classe 1: 0.02\n"
    }
   ],
   "source": [
    "kernel = 'sigmoid'\n",
    "max_iteration = 1000\n",
    "\n",
    "# for i in range(2):\n",
    "#     image = x_train[: , i].reshape((200,200))\n",
    "#     plt.imshow(image, cmap='gray')\n",
    "#     plt.show()\n",
    "\n",
    "\n",
    "# x_vecchi = x_train[:,y_train == 0]\n",
    "# x_giovani = x_train[:,y_train == 1]\n",
    "\n",
    "# plt.scatter(np.arange(x_vecchi.shape[0]), x_vecchi[:,0], c = 'r')\n",
    "# plt.scatter(np.arange(x_giovani.shape[0]), x_giovani[:,1], c = 'b')\n",
    "# plt.show()\n",
    "\n",
    "model = SVC(kernel=kernel, max_iter=max_iteration) \n",
    "model.fit(x_train, y_train)\n",
    "\n",
    "cmc = np.zeros((2,2))\n",
    "\n",
    "predicted = model.predict(x_test)\n",
    "\n",
    "for pr,y_te in zip(predicted,y_test):\n",
    "  cmc[y_te,pr] += 1.0\n",
    "\n",
    "print(cmc)\n",
    "\n",
    "\n",
    "accuracy = np.sum(cmc.diagonal())/np.sum(cmc)\n",
    "\n",
    "precision_0 = cmc[0,0] / np.sum(cmc[:,0])\n",
    "precision_1 = cmc[1,1]/ np.sum(cmc[:,1])\n",
    "\n",
    "recall_0 = cmc[0,0]/ np.sum(cmc[0,:])\n",
    "recall_1 = cmc[1,1]/ np.sum(cmc[1,:])\n",
    "\n",
    "print('Accuratezza del classificatore: ' + \"{0:.2f}\".format(accuracy*100) + '%')\n",
    "print('Precisione del classificatore rispetto alla classe 0: ' + \"{0:.2f}\".format(precision_0))\n",
    "print('Precisione del classificatore rispetto alla classe 1: ' + \"{0:.2f}\".format(precision_1))\n",
    "print('Recall del classificatore rispetto alla classe 0: ' + \"{0:.2f}\".format(recall_0))\n",
    "print('Recall del classificatore rispetto alla classe 1: ' + \"{0:.2f}\".format(recall_1))"
   ]
  },
  {
   "cell_type": "code",
   "execution_count": null,
   "metadata": {},
   "outputs": [],
   "source": [
    "plt.imshow(cmc)\n",
    "plt.colorbar()\n",
    "plt.xlabel(\"Predicted\")\n",
    "plt.xticks([0,1],[\"6\",\"9\"])\n",
    "plt.yticks([0,1],[\"6\",\"9\"])\n",
    "plt.ylabel(\"Real\")\n",
    "plt.show()\n"
   ]
  }
 ],
 "metadata": {
  "language_info": {
   "codemirror_mode": {
    "name": "ipython",
    "version": 3
   },
   "file_extension": ".py",
   "mimetype": "text/x-python",
   "name": "python",
   "nbconvert_exporter": "python",
   "pygments_lexer": "ipython3",
   "version": "3.8.1-final"
  },
  "orig_nbformat": 2,
  "kernelspec": {
   "name": "python38164bitttrprojectcondae928049f7c844a539263ec32af851b5d",
   "display_name": "Python 3.8.1 64-bit ('ttr-project': conda)"
  }
 },
 "nbformat": 4,
 "nbformat_minor": 2
}