{
  "nbformat": 4,
  "nbformat_minor": 0,
  "metadata": {
    "colab": {
      "name": "three_class_svm_fe.ipynb",
      "provenance": [],
      "collapsed_sections": [],
      "include_colab_link": true
    },
    "kernelspec": {
      "name": "python3",
      "display_name": "Python 3"
    }
  },
  "cells": [
    {
      "cell_type": "markdown",
      "metadata": {
        "id": "view-in-github",
        "colab_type": "text"
      },
      "source": [
        "<a href=\"https://colab.research.google.com/github/gbagolin/ttr-project/blob/master/three_class_svm_fe.ipynb\" target=\"_parent\"><img src=\"https://colab.research.google.com/assets/colab-badge.svg\" alt=\"Open In Colab\"/></a>"
      ]
    },
    {
      "cell_type": "code",
      "metadata": {
        "id": "qKL9L6-Yo16h",
        "colab_type": "code",
        "colab": {
          "base_uri": "https://localhost:8080/",
          "height": 453
        },
        "outputId": "3df02a54-8b98-45d3-d366-68b7d744dd4d"
      },
      "source": [
        "!wget -O three_classes.zip \"https://www.dropbox.com/s/yoaiztoj69p5g6m/three_classes.zip?dl=0\""
      ],
      "execution_count": 8,
      "outputs": [
        {
          "output_type": "stream",
          "text": [
            "--2020-06-19 10:29:32--  https://www.dropbox.com/s/yoaiztoj69p5g6m/three_classes.zip?dl=0\n",
            "Resolving www.dropbox.com (www.dropbox.com)... 162.125.5.1, 2620:100:601d:1::a27d:501\n",
            "Connecting to www.dropbox.com (www.dropbox.com)|162.125.5.1|:443... connected.\n",
            "HTTP request sent, awaiting response... 301 Moved Permanently\n",
            "Location: /s/raw/yoaiztoj69p5g6m/three_classes.zip [following]\n",
            "--2020-06-19 10:29:32--  https://www.dropbox.com/s/raw/yoaiztoj69p5g6m/three_classes.zip\n",
            "Reusing existing connection to www.dropbox.com:443.\n",
            "HTTP request sent, awaiting response... 302 Found\n",
            "Location: https://uc110d99724f1b038c0385f3839f.dl.dropboxusercontent.com/cd/0/inline/A5-t4iYmTrGhgP1IJSjW-ym8-hJJemkjx5N0ISVWeiTCSAHVb_wRVD_y3XPh5O1nfy86L9Dee9AvZP23x6JAjKpdaR1SXbzLQ6M4RPo1MOCbEGM1pC_XVzaP5kAyO1h28y4/file# [following]\n",
            "--2020-06-19 10:29:32--  https://uc110d99724f1b038c0385f3839f.dl.dropboxusercontent.com/cd/0/inline/A5-t4iYmTrGhgP1IJSjW-ym8-hJJemkjx5N0ISVWeiTCSAHVb_wRVD_y3XPh5O1nfy86L9Dee9AvZP23x6JAjKpdaR1SXbzLQ6M4RPo1MOCbEGM1pC_XVzaP5kAyO1h28y4/file\n",
            "Resolving uc110d99724f1b038c0385f3839f.dl.dropboxusercontent.com (uc110d99724f1b038c0385f3839f.dl.dropboxusercontent.com)... 162.125.5.15, 2620:100:601d:15::a27d:50f\n",
            "Connecting to uc110d99724f1b038c0385f3839f.dl.dropboxusercontent.com (uc110d99724f1b038c0385f3839f.dl.dropboxusercontent.com)|162.125.5.15|:443... connected.\n",
            "HTTP request sent, awaiting response... 302 Found\n",
            "Location: /cd/0/inline2/A58bFNBBRhNpGDmMMxie_MLayunj-UO25frTaffIkB52H-QRThqfRiFac8n1xn7dva3utv6SiwqFpuXYlwjzQRg6U3Embwf53L08DOjFz45jc9Zrwav8aLCsBa0O8KCw-wNYra7S67GlYqeI7y6Mnl4wSQP4lRTeDzn_6UIfAfSuOQja4QpvOtYreyis4g0KZsldQbyXTd1efnLjXWQeDZcfLyVvxQRvvbdDDfWukKO0_LYfzysOPzhdjbzgG9A3Lw5V4xsRpcWmPkJeBCvdN1QyP0xJWPDjBjWJwcHwCSIY0zzVnXQNBdFpV2oNaMYoUK80cHukmORBtQCx4fXxHKkjwdMJLdHFiAarKULrG1JsgA/file [following]\n",
            "--2020-06-19 10:29:33--  https://uc110d99724f1b038c0385f3839f.dl.dropboxusercontent.com/cd/0/inline2/A58bFNBBRhNpGDmMMxie_MLayunj-UO25frTaffIkB52H-QRThqfRiFac8n1xn7dva3utv6SiwqFpuXYlwjzQRg6U3Embwf53L08DOjFz45jc9Zrwav8aLCsBa0O8KCw-wNYra7S67GlYqeI7y6Mnl4wSQP4lRTeDzn_6UIfAfSuOQja4QpvOtYreyis4g0KZsldQbyXTd1efnLjXWQeDZcfLyVvxQRvvbdDDfWukKO0_LYfzysOPzhdjbzgG9A3Lw5V4xsRpcWmPkJeBCvdN1QyP0xJWPDjBjWJwcHwCSIY0zzVnXQNBdFpV2oNaMYoUK80cHukmORBtQCx4fXxHKkjwdMJLdHFiAarKULrG1JsgA/file\n",
            "Reusing existing connection to uc110d99724f1b038c0385f3839f.dl.dropboxusercontent.com:443.\n",
            "HTTP request sent, awaiting response... 200 OK\n",
            "Length: 35611378 (34M) [application/zip]\n",
            "Saving to: ‘three_classes.zip’\n",
            "\n",
            "three_classes.zip   100%[===================>]  33.96M  47.5MB/s    in 0.7s    \n",
            "\n",
            "2020-06-19 10:29:35 (47.5 MB/s) - ‘three_classes.zip’ saved [35611378/35611378]\n",
            "\n"
          ],
          "name": "stdout"
        }
      ]
    },
    {
      "cell_type": "code",
      "metadata": {
        "id": "H1TtxYFGo3bj",
        "colab_type": "code",
        "colab": {}
      },
      "source": [
        "!unzip three_classes.zip"
      ],
      "execution_count": null,
      "outputs": []
    },
    {
      "cell_type": "code",
      "metadata": {
        "id": "su4QrEY2nmQS",
        "colab_type": "code",
        "colab": {}
      },
      "source": [
        "from sklearn.svm import SVC\n",
        "from upload_dataset import upload_dataset\n",
        "from matplotlib import pyplot as plt\n",
        "from sklearn.decomposition import PCA\n",
        "\n",
        "from resnet import FeaturesExtractor\n",
        "\n",
        "import numpy as np\n",
        "import cv2\n"
      ],
      "execution_count": 2,
      "outputs": []
    },
    {
      "cell_type": "code",
      "metadata": {
        "id": "ogQwMHw6ojPM",
        "colab_type": "code",
        "colab": {
          "base_uri": "https://localhost:8080/",
          "height": 69
        },
        "outputId": "31e9ef71-351b-40e0-bd19-81ab66142097"
      },
      "source": [
        "#Parameters initialization\n",
        "\n",
        "NUM_CLASSES = 3\n",
        "\n",
        "extractor = FeaturesExtractor()\n",
        "\n",
        "#Dataset initialization\n",
        "labels = []\n",
        "features = []\n",
        "class_list = range(3)\n",
        "\n",
        "for i in class_list: \n",
        "\n",
        "  print(\"Iteration: \", i)\n",
        "  tmp_dataset, tmp_labels = upload_dataset('three_classes/{0}/'.format(i), i)\n",
        "  labels.append(tmp_labels)\n",
        "\n",
        "  for img in tmp_dataset: \n",
        "    features.append(extractor.getFeatures(img))"
      ],
      "execution_count": 10,
      "outputs": [
        {
          "output_type": "stream",
          "text": [
            "Iteration:  0\n",
            "Iteration:  1\n",
            "Iteration:  2\n"
          ],
          "name": "stdout"
        }
      ]
    },
    {
      "cell_type": "code",
      "metadata": {
        "id": "kiQXcZ6bqJWs",
        "colab_type": "code",
        "colab": {
          "base_uri": "https://localhost:8080/",
          "height": 35
        },
        "outputId": "d822bbc1-6445-4dbd-b54a-c54e4cbc2c3e"
      },
      "source": [
        "# Tensor conversion to numpy\n",
        "X = [t.numpy() for t in features]\n",
        "X = np.array(X) \n",
        "print(\"N Row = N Elements: {}, N Col = N Features: {}\".format(X.shape[0], X.shape[1]))"
      ],
      "execution_count": 11,
      "outputs": [
        {
          "output_type": "stream",
          "text": [
            "N Row = N Elements: 2922, N Col = N Features: 2048\n"
          ],
          "name": "stdout"
        }
      ]
    },
    {
      "cell_type": "code",
      "metadata": {
        "id": "hX5KYFh_qKlT",
        "colab_type": "code",
        "colab": {}
      },
      "source": [
        "#Labels Declaration \n",
        "y = [] \n",
        "for label_list in labels:\n",
        "  for element in label_list: \n",
        "    y.append(element)"
      ],
      "execution_count": 12,
      "outputs": []
    },
    {
      "cell_type": "code",
      "metadata": {
        "id": "QCBx8wluqL_z",
        "colab_type": "code",
        "colab": {
          "base_uri": "https://localhost:8080/",
          "height": 52
        },
        "outputId": "b5ecee74-606e-4df3-bcad-68dbcf6200ef"
      },
      "source": [
        "from sklearn.model_selection import train_test_split\n",
        "random_state = 0\n",
        "# Split into train/test\n",
        "X_train, X_test, y_train, y_test = \\\n",
        "    train_test_split(X, y, test_size=0.1, stratify=y,\n",
        "                     random_state=random_state)\n",
        "\n",
        "y_train = np.array(y_train)\n",
        "y_test = np.array(y_test)\n",
        "\n",
        "print(\"N Elements train: \", X_train.shape[0])\n",
        "print(\"N Elements test: \", X_test.shape[0])"
      ],
      "execution_count": 16,
      "outputs": [
        {
          "output_type": "stream",
          "text": [
            "N Elements train:  2629\n",
            "N Elements test:  293\n"
          ],
          "name": "stdout"
        }
      ]
    },
    {
      "cell_type": "code",
      "metadata": {
        "id": "v3MzBE8bwZWK",
        "colab_type": "code",
        "colab": {}
      },
      "source": [
        "from sklearn import svm\n",
        "kernel = 'rbf'\n",
        "max_iteration = 10**6\n",
        "classifier = svm.SVC(kernel=kernel, max_iter=max_iteration, C = 5).fit(X_train, y_train)"
      ],
      "execution_count": 17,
      "outputs": []
    },
    {
      "cell_type": "code",
      "metadata": {
        "id": "8C2UGQkGq5G7",
        "colab_type": "code",
        "colab": {
          "base_uri": "https://localhost:8080/",
          "height": 295
        },
        "outputId": "7bfc5a6b-0d6d-45fc-f8d8-b6c7a623a2db"
      },
      "source": [
        "from sklearn.metrics import confusion_matrix\n",
        "from sklearn.metrics import plot_confusion_matrix\n",
        "\n",
        "disp = plot_confusion_matrix(classifier, X_test, y_test,\n",
        "                                 display_labels=class_list,\n",
        "                                 cmap=plt.cm.Reds,\n",
        "                                 normalize='true')\n",
        "\n",
        "disp.ax_.set_title(\"Normalized confusion matrix\")\n",
        "\n",
        "plt.show()"
      ],
      "execution_count": 18,
      "outputs": [
        {
          "output_type": "display_data",
          "data": {
            "image/png": "[encoded data removed]",
            "text/plain": [
              "<Figure size 432x288 with 2 Axes>"
            ]
          },
          "metadata": {
            "tags": [],
            "needs_background": "light"
          }
        }
      ]
    },
    {
      "cell_type": "code",
      "metadata": {
        "id": "Vtx7OKZVMOwg",
        "colab_type": "code",
        "colab": {}
      },
      "source": [
        ""
      ],
      "execution_count": null,
      "outputs": []
    }
  ]
}