{
  "nbformat": 4,
  "nbformat_minor": 0,
  "metadata": {
    "colab": {
      "name": "binary_knn_fe.ipynb",
      "provenance": [],
      "collapsed_sections": [],
      "include_colab_link": true
    },
    "kernelspec": {
      "display_name": "Python 3",
      "name": "python3"
    }
  },
  "cells": [
    {
      "cell_type": "markdown",
      "metadata": {
        "id": "view-in-github",
        "colab_type": "text"
      },
      "source": [
        "<a href=\"https://colab.research.google.com/github/gbagolin/ttr-project/blob/master/binary_knn_fe.ipynb\" target=\"_parent\"><img src=\"https://colab.research.google.com/assets/colab-badge.svg\" alt=\"Open In Colab\"/></a>"
      ]
    },
    {
      "cell_type": "code",
      "metadata": {
        "id": "3ACSBGkvTpoV",
        "colab_type": "code",
        "colab": {}
      },
      "source": [
        "!wget -O faces.zip \"https://www.dropbox.com/s/t164dl4ulgcz5mq/faces.zip?dl=0\""
      ],
      "execution_count": null,
      "outputs": []
    },
    {
      "cell_type": "code",
      "metadata": {
        "id": "dGrXlWQeVtMf",
        "colab_type": "code",
        "colab": {}
      },
      "source": [
        "!unzip faces.zip"
      ],
      "execution_count": null,
      "outputs": []
    },
    {
      "cell_type": "code",
      "metadata": {
        "id": "zRTztFOuUDKK",
        "colab_type": "code",
        "colab": {
          "base_uri": "https://localhost:8080/",
          "height": 52
        },
        "outputId": "e7fdc9f6-1d72-4a35-e63d-70af885f1e00"
      },
      "source": [
        "from sklearn.svm import SVC\n",
        "from upload_dataset import upload_dataset\n",
        "from matplotlib import pyplot as plt\n",
        "from sklearn.decomposition import PCA\n",
        "\n",
        "from resnet import FeaturesExtractor\n",
        "from upload_dataset import upload_dataset\n",
        "import numpy as np\n",
        "import cv2\n",
        "\n",
        "#Parameters initialization\n",
        "NUM_CLASSES = 2\n",
        "\n",
        "extractor = FeaturesExtractor()\n",
        "#Dataset initialization\n",
        "labels = []\n",
        "features = []\n",
        "class_list = [0,6]\n",
        "\n",
        "for i in class_list: \n",
        "\n",
        "  print(\"Iteration: \", i)\n",
        "  tmp_dataset, tmp_labels = upload_dataset('faces/{0}/'.format(i), i // max(class_list))\n",
        "  labels.append(tmp_labels)\n",
        "\n",
        "  for img in tmp_dataset: \n",
        "    features.append(extractor.getFeatures(img))\n"
      ],
      "execution_count": 1,
      "outputs": [
        {
          "output_type": "stream",
          "text": [
            "Iteration:  0\n",
            "Iteration:  6\n"
          ],
          "name": "stdout"
        }
      ]
    },
    {
      "cell_type": "code",
      "metadata": {
        "id": "S3BJUb0Vj_Tc",
        "colab_type": "code",
        "colab": {
          "base_uri": "https://localhost:8080/",
          "height": 35
        },
        "outputId": "7b9f7e5e-32d3-4c60-fc92-d3f804693eff"
      },
      "source": [
        "# Tensor conversion to numpy\n",
        "X = [t.numpy() for t in features]\n",
        "X = np.array(X)\n",
        "print(\"N Row = N Elements: {}, N Col = N Features: {}\".format(X.shape[0], X.shape[1]))"
      ],
      "execution_count": 2,
      "outputs": [
        {
          "output_type": "stream",
          "text": [
            "N Row = N Elements: 1948, N Col = N Features: 2048\n"
          ],
          "name": "stdout"
        }
      ]
    },
    {
      "cell_type": "code",
      "metadata": {
        "id": "pkoKqDoemI5Z",
        "colab_type": "code",
        "colab": {}
      },
      "source": [
        "#Labels Declaration \n",
        "y = []\n",
        "for label in labels:\n",
        "  for element in label: \n",
        "    y.append(element)"
      ],
      "execution_count": 69,
      "outputs": []
    },
    {
      "cell_type": "code",
      "metadata": {
        "id": "M6Y4Ab5qoMOM",
        "colab_type": "code",
        "colab": {
          "base_uri": "https://localhost:8080/",
          "height": 52
        },
        "outputId": "88e3e6db-b4e1-4076-da5e-8e99a0ad28a0"
      },
      "source": [
        "from sklearn.model_selection import train_test_split\n",
        "random_state = 0\n",
        "# Split into train/test\n",
        "X_train, X_test, y_train, y_test = \\\n",
        "    train_test_split(X, y, test_size=0.1, stratify=y,\n",
        "                     random_state=random_state)\n",
        "\n",
        "y_train = np.array(y_train)\n",
        "y_test = np.array(y_test)\n",
        "\n",
        "print(\"N Elements train: \", X_train.shape[0])\n",
        "print(\"N Elements test: \", X_test.shape[0])"
      ],
      "execution_count": 70,
      "outputs": [
        {
          "output_type": "stream",
          "text": [
            "N Elements train:  1753\n",
            "N Elements test:  195\n"
          ],
          "name": "stdout"
        }
      ]
    },
    {
      "cell_type": "code",
      "metadata": {
        "id": "rAKLo3qj2rtG",
        "colab_type": "code",
        "colab": {
          "base_uri": "https://localhost:8080/",
          "height": 173
        },
        "outputId": "bc904dd2-38eb-449a-fb6d-600f451f846e"
      },
      "source": [
        "from sklearn.pipeline import make_pipeline\n",
        "from sklearn.neighbors import KNeighborsClassifier\n",
        "from sklearn.preprocessing import StandardScaler\n",
        "\n",
        "#KNN model initialization\n",
        "model = make_pipeline(StandardScaler(),\n",
        "                    KNeighborsClassifier(n_neighbors=50\n",
        "                       ))\n",
        "#KNN model training\n",
        "model.fit(X_train, y_train)\n"
      ],
      "execution_count": 71,
      "outputs": [
        {
          "output_type": "execute_result",
          "data": {
            "text/plain": [
              "Pipeline(memory=None,\n",
              "         steps=[('standardscaler',\n",
              "                 StandardScaler(copy=True, with_mean=True, with_std=True)),\n",
              "                ('kneighborsclassifier',\n",
              "                 KNeighborsClassifier(algorithm='auto', leaf_size=30,\n",
              "                                      metric='minkowski', metric_params=None,\n",
              "                                      n_jobs=None, n_neighbors=50, p=2,\n",
              "                                      weights='uniform'))],\n",
              "         verbose=False)"
            ]
          },
          "metadata": {
            "tags": []
          },
          "execution_count": 71
        }
      ]
    },
    {
      "cell_type": "code",
      "metadata": {
        "id": "pk9r2B_bE_4P",
        "colab_type": "code",
        "colab": {}
      },
      "source": [
        "#Predict the response for test dataset\n",
        "y_pred = model.predict(X_test)"
      ],
      "execution_count": 72,
      "outputs": []
    },
    {
      "cell_type": "code",
      "metadata": {
        "id": "cNJnGLceWFSO",
        "colab_type": "code",
        "colab": {
          "base_uri": "https://localhost:8080/",
          "height": 35
        },
        "outputId": "185f892a-9f86-404c-e972-7dd286e53a4d"
      },
      "source": [
        "from sklearn import metrics\n",
        "# Model accuracy\n",
        "print(\"Accuracy:\",metrics.accuracy_score(y_test, y_pred))"
      ],
      "execution_count": 73,
      "outputs": [
        {
          "output_type": "stream",
          "text": [
            "Accuracy: 0.8923076923076924\n"
          ],
          "name": "stdout"
        }
      ]
    },
    {
      "cell_type": "code",
      "metadata": {
        "id": "I_X8mcnZVtY1",
        "colab_type": "code",
        "colab": {}
      },
      "source": [
        "from sklearn.metrics import confusion_matrix\n",
        "#Confusion Matrix\n",
        "cmc = confusion_matrix(y_test, y_pred)"
      ],
      "execution_count": 75,
      "outputs": []
    },
    {
      "cell_type": "code",
      "metadata": {
        "id": "G4atNK8Vm4K-",
        "colab_type": "code",
        "colab": {
          "base_uri": "https://localhost:8080/",
          "height": 366
        },
        "outputId": "124eb365-6521-4531-a423-ab10534c8302"
      },
      "source": [
        "#Results analysis\n",
        "plt.imshow(cmc)\n",
        "plt.colorbar()\n",
        "plt.xlabel(\"Predicted\")\n",
        "plt.xticks([0,1],[\"First Class\",\"Second Class\"])\n",
        "plt.yticks([0,1], [\"First Class\",\"Second Class\"])\n",
        "plt.ylabel(\"Real\")\n",
        "\n",
        "accuracy = np.sum(cmc.diagonal())/np.sum(cmc)\n",
        "\n",
        "precision_0 = cmc[0,0] / np.sum(cmc[:,0])\n",
        "precision_1 = cmc[1,1]/ np.sum(cmc[:,1])\n",
        "\n",
        "recall_0 = cmc[0,0]/ np.sum(cmc[0,:])\n",
        "recall_1 = cmc[1,1]/ np.sum(cmc[1,:])\n",
        "\n",
        "print('Classifier accuracy: ' + \"{0:.2f}\".format(accuracy*100) + '%')\n",
        "print('Classifier precision wrt First Class: ' + \"{0:.2f}\".format(precision_0))\n",
        "print('Classifier precision wrt Second Class: ' + \"{0:.2f}\".format(precision_1))\n",
        "print('Classifier recall wrt First Class: ' + \"{0:.2f}\".format(recall_0))\n",
        "print('Classifier recall wrt Second Class: ' + \"{0:.2f}\".format(recall_1))\n",
        "\n",
        "plt.show()"
      ],
      "execution_count": 76,
      "outputs": [
        {
          "output_type": "stream",
          "text": [
            "Classifier accuracy: 89.23%\n",
            "Classifier precision wrt First Class: 0.91\n",
            "Classifier precision wrt Second Class: 0.88\n",
            "Classifier recall wrt First Class: 0.88\n",
            "Classifier recall wrt Second Class: 0.91\n"
          ],
          "name": "stdout"
        },
        {
          "output_type": "display_data",
          "data": {
            "image/png": "[encoded data removed]",
            "text/plain": [
              "<Figure size 432x288 with 2 Axes>"
            ]
          },
          "metadata": {
            "tags": [],
            "needs_background": "light"
          }
        }
      ]
    }
  ]
}