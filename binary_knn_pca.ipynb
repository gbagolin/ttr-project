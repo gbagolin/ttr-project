{
  "nbformat": 4,
  "nbformat_minor": 0,
  "metadata": {
    "colab": {
      "name": "binary_knn_pca.ipynb",
      "provenance": [],
      "collapsed_sections": [],
      "toc_visible": true,
      "include_colab_link": true
    },
    "kernelspec": {
      "display_name": "Python 3",
      "name": "python3"
    }
  },
  "cells": [
    {
      "cell_type": "markdown",
      "metadata": {
        "id": "view-in-github",
        "colab_type": "text"
      },
      "source": [
        "<a href=\"https://colab.research.google.com/github/gbagolin/ttr-project/blob/master/binary_knn_pca.ipynb\" target=\"_parent\"><img src=\"https://colab.research.google.com/assets/colab-badge.svg\" alt=\"Open In Colab\"/></a>"
      ]
    },
    {
      "cell_type": "code",
      "metadata": {
        "id": "3ACSBGkvTpoV",
        "colab_type": "code",
        "colab": {}
      },
      "source": [
        "!wget -O faces.zip \"https://www.dropbox.com/s/t164dl4ulgcz5mq/faces.zip?dl=0\""
      ],
      "execution_count": null,
      "outputs": []
    },
    {
      "cell_type": "code",
      "metadata": {
        "id": "dGrXlWQeVtMf",
        "colab_type": "code",
        "colab": {}
      },
      "source": [
        "!unzip faces.zip"
      ],
      "execution_count": null,
      "outputs": []
    },
    {
      "cell_type": "code",
      "metadata": {
        "id": "zRTztFOuUDKK",
        "colab_type": "code",
        "colab": {
          "base_uri": "https://localhost:8080/",
          "height": 52
        },
        "outputId": "66cdf6fd-7809-422c-a4d1-b09e5ec0c2ef"
      },
      "source": [
        "from sklearn.svm import SVC\n",
        "from upload_dataset import upload_dataset\n",
        "from matplotlib import pyplot as plt\n",
        "from sklearn.decomposition import PCA\n",
        "\n",
        "from upload_dataset import upload_dataset\n",
        "import numpy as np\n",
        "import cv2\n",
        "\n",
        "#Parameters initialization\n",
        "NUM_CLASSES = 2\n",
        "\n",
        "#Dataset initialization\n",
        "labels = []\n",
        "features = []\n",
        "class_list = [0,6]\n",
        "\n",
        "for i in class_list: \n",
        "\n",
        "  print(\"Iteration: \", i)\n",
        "  tmp_dataset, tmp_labels = upload_dataset('faces/{0}/'.format(i), i // max(class_list))\n",
        "  labels.append(tmp_labels)\n",
        "\n",
        "  for img in tmp_dataset: \n",
        "    features.append(img.reshape((120000)))"
      ],
      "execution_count": 183,
      "outputs": [
        {
          "output_type": "stream",
          "text": [
            "Iteration:  0\n",
            "Iteration:  6\n"
          ],
          "name": "stdout"
        }
      ]
    },
    {
      "cell_type": "code",
      "metadata": {
        "id": "RZFojr1bYL0S",
        "colab_type": "code",
        "colab": {
          "base_uri": "https://localhost:8080/",
          "height": 35
        },
        "outputId": "c11f3c4f-fb0d-4841-8245-d8475b1e26eb"
      },
      "source": [
        "X = np.array(features)\n",
        "print(\"N Row = N Elements: {}, N Col = N Features: {}\".format(X.shape[0], X.shape[1]))"
      ],
      "execution_count": 184,
      "outputs": [
        {
          "output_type": "stream",
          "text": [
            "N Row = N Elements: 1948, N Col = N Features: 120000\n"
          ],
          "name": "stdout"
        }
      ]
    },
    {
      "cell_type": "code",
      "metadata": {
        "id": "pkoKqDoemI5Z",
        "colab_type": "code",
        "colab": {}
      },
      "source": [
        "#Labels Declaration \n",
        "y = []\n",
        "for label in labels:\n",
        "  for element in label: \n",
        "    y.append(element)"
      ],
      "execution_count": 185,
      "outputs": []
    },
    {
      "cell_type": "code",
      "metadata": {
        "id": "M6Y4Ab5qoMOM",
        "colab_type": "code",
        "colab": {
          "base_uri": "https://localhost:8080/",
          "height": 52
        },
        "outputId": "59003881-ab32-4494-8008-6e2d5c2a8301"
      },
      "source": [
        "from sklearn.model_selection import train_test_split\n",
        "random_state = 0\n",
        "# Split into train/test\n",
        "X_train, X_test, y_train, y_test = \\\n",
        "    train_test_split(X, y, test_size=0.1, stratify=y,\n",
        "                     random_state=random_state)\n",
        "\n",
        "y_train = np.array(y_train)\n",
        "y_test = np.array(y_test)\n",
        "\n",
        "print(\"N Elements train: \", X_train.shape[0])\n",
        "print(\"N Elements test: \", X_test.shape[0])"
      ],
      "execution_count": 186,
      "outputs": [
        {
          "output_type": "stream",
          "text": [
            "N Elements train:  1753\n",
            "N Elements test:  195\n"
          ],
          "name": "stdout"
        }
      ]
    },
    {
      "cell_type": "code",
      "metadata": {
        "id": "gE1u-aobafqB",
        "colab_type": "code",
        "colab": {
          "base_uri": "https://localhost:8080/",
          "height": 156
        },
        "outputId": "8bd1d470-60d3-4538-9546-693ec73fa049"
      },
      "source": [
        "from sklearn.pipeline import make_pipeline\n",
        "from sklearn.decomposition import PCA\n",
        "from sklearn.preprocessing import StandardScaler\n",
        "\n",
        "#PCA model initialization\n",
        "model = make_pipeline(StandardScaler(),\n",
        "                      PCA(n_components=50,\n",
        "                      random_state=random_state))\n",
        "#PCA model training\n",
        "model.fit(X_train, y_train)"
      ],
      "execution_count": 187,
      "outputs": [
        {
          "output_type": "execute_result",
          "data": {
            "text/plain": [
              "Pipeline(memory=None,\n",
              "         steps=[('standardscaler',\n",
              "                 StandardScaler(copy=True, with_mean=True, with_std=True)),\n",
              "                ('pca',\n",
              "                 PCA(copy=True, iterated_power='auto', n_components=50,\n",
              "                     random_state=0, svd_solver='auto', tol=0.0,\n",
              "                     whiten=False))],\n",
              "         verbose=False)"
            ]
          },
          "metadata": {
            "tags": []
          },
          "execution_count": 187
        }
      ]
    },
    {
      "cell_type": "code",
      "metadata": {
        "id": "-RijB01aamts",
        "colab_type": "code",
        "colab": {}
      },
      "source": [
        "#PCA data transformation\n",
        "X_train = model.transform(X_train)\n",
        "X_test = model.transform(X_test)"
      ],
      "execution_count": 188,
      "outputs": []
    },
    {
      "cell_type": "code",
      "metadata": {
        "id": "ubDR0HfPb8rs",
        "colab_type": "code",
        "colab": {
          "base_uri": "https://localhost:8080/",
          "height": 173
        },
        "outputId": "4c356eb5-216d-4387-c5fc-6ad034cdac08"
      },
      "source": [
        "from sklearn.pipeline import make_pipeline\n",
        "from sklearn.neighbors import KNeighborsClassifier\n",
        "from sklearn.preprocessing import StandardScaler\n",
        "\n",
        "#KNN model initialization\n",
        "model = make_pipeline(StandardScaler(),\n",
        "                    KNeighborsClassifier(n_neighbors=10\n",
        "                       ))\n",
        "#KNN model training\n",
        "model.fit(X_train, y_train)"
      ],
      "execution_count": 194,
      "outputs": [
        {
          "output_type": "execute_result",
          "data": {
            "text/plain": [
              "Pipeline(memory=None,\n",
              "         steps=[('standardscaler',\n",
              "                 StandardScaler(copy=True, with_mean=True, with_std=True)),\n",
              "                ('kneighborsclassifier',\n",
              "                 KNeighborsClassifier(algorithm='auto', leaf_size=30,\n",
              "                                      metric='minkowski', metric_params=None,\n",
              "                                      n_jobs=None, n_neighbors=10, p=2,\n",
              "                                      weights='uniform'))],\n",
              "         verbose=False)"
            ]
          },
          "metadata": {
            "tags": []
          },
          "execution_count": 194
        }
      ]
    },
    {
      "cell_type": "code",
      "metadata": {
        "id": "pk9r2B_bE_4P",
        "colab_type": "code",
        "colab": {}
      },
      "source": [
        "#Predict the response for test dataset\n",
        "y_pred = model.predict(X_test)"
      ],
      "execution_count": 195,
      "outputs": []
    },
    {
      "cell_type": "code",
      "metadata": {
        "id": "cNJnGLceWFSO",
        "colab_type": "code",
        "colab": {
          "base_uri": "https://localhost:8080/",
          "height": 35
        },
        "outputId": "7f019031-2b78-45bc-90ba-5449a95ae2e9"
      },
      "source": [
        "from sklearn import metrics\n",
        "# Model accuracy\n",
        "print(\"Accuracy:\",metrics.accuracy_score(y_test, y_pred))"
      ],
      "execution_count": 196,
      "outputs": [
        {
          "output_type": "stream",
          "text": [
            "Accuracy: 0.7589743589743589\n"
          ],
          "name": "stdout"
        }
      ]
    },
    {
      "cell_type": "code",
      "metadata": {
        "id": "I_X8mcnZVtY1",
        "colab_type": "code",
        "colab": {}
      },
      "source": [
        "from sklearn.metrics import confusion_matrix\n",
        "#Confusion Matrix\n",
        "cmc = confusion_matrix(y_test, y_pred)"
      ],
      "execution_count": 198,
      "outputs": []
    },
    {
      "cell_type": "code",
      "metadata": {
        "id": "4ycMkodqdvn8",
        "colab_type": "code",
        "colab": {
          "base_uri": "https://localhost:8080/",
          "height": 366
        },
        "outputId": "2f16b50e-5fdd-4af8-f172-a6bc501677e3"
      },
      "source": [
        "\n",
        "#Results analysis\n",
        "plt.imshow(cmc)\n",
        "plt.colorbar()\n",
        "plt.xlabel(\"Predicted\")\n",
        "plt.xticks([0,1],[\"First Class\",\"Second Class\"])\n",
        "plt.yticks([0,1], [\"First Class\",\"Second Class\"])\n",
        "plt.ylabel(\"Real\")\n",
        "\n",
        "accuracy = np.sum(cmc.diagonal())/np.sum(cmc)\n",
        "\n",
        "precision_0 = cmc[0,0] / np.sum(cmc[:,0])\n",
        "precision_1 = cmc[1,1]/ np.sum(cmc[:,1])\n",
        "\n",
        "recall_0 = cmc[0,0]/ np.sum(cmc[0,:])\n",
        "recall_1 = cmc[1,1]/ np.sum(cmc[1,:])\n",
        "\n",
        "print('Classifier accuracy: ' + \"{0:.2f}\".format(accuracy*100) + '%')\n",
        "print('Classifier precision wrt First Class: ' + \"{0:.2f}\".format(precision_0))\n",
        "print('Classifier precision wrt Second Class: ' + \"{0:.2f}\".format(precision_1))\n",
        "print('Classifier recall wrt First Class: ' + \"{0:.2f}\".format(recall_0))\n",
        "print('Classifier recall wrt Second Class: ' + \"{0:.2f}\".format(recall_1))\n",
        "\n",
        "plt.show()"
      ],
      "execution_count": 199,
      "outputs": [
        {
          "output_type": "stream",
          "text": [
            "Classifier accuracy: 75.90%\n",
            "Classifier precision wrt First Class: 0.83\n",
            "Classifier precision wrt Second Class: 0.71\n",
            "Classifier recall wrt First Class: 0.65\n",
            "Classifier recall wrt Second Class: 0.87\n"
          ],
          "name": "stdout"
        },
        {
          "output_type": "display_data",
          "data": {
            "image/png": "[encoded data removed]",
            "text/plain": [
              "<Figure size 432x288 with 2 Axes>"
            ]
          },
          "metadata": {
            "tags": [],
            "needs_background": "light"
          }
        }
      ]
    },
    {
      "cell_type": "code",
      "metadata": {
        "id": "hmJGN2jDk5S3",
        "colab_type": "code",
        "colab": {}
      },
      "source": [
        ""
      ],
      "execution_count": null,
      "outputs": []
    }
  ]
}