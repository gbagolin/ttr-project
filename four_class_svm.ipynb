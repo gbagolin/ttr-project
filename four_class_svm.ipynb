{
  "nbformat": 4,
  "nbformat_minor": 0,
  "metadata": {
    "colab": {
      "name": "four_class_svm.ipynb",
      "provenance": [],
      "collapsed_sections": [],
      "include_colab_link": true
    },
    "kernelspec": {
      "name": "python3",
      "display_name": "Python 3"
    }
  },
  "cells": [
    {
      "cell_type": "markdown",
      "metadata": {
        "id": "view-in-github",
        "colab_type": "text"
      },
      "source": [
        "<a href=\"https://colab.research.google.com/github/gbagolin/ttr-project/blob/master/four_class_svm.ipynb\" target=\"_parent\"><img src=\"https://colab.research.google.com/assets/colab-badge.svg\" alt=\"Open In Colab\"/></a>"
      ]
    },
    {
      "cell_type": "code",
      "metadata": {
        "id": "qKL9L6-Yo16h",
        "colab_type": "code",
        "colab": {
          "base_uri": "https://localhost:8080/",
          "height": 453
        },
        "outputId": "81219d6b-6515-41c9-a975-b07853b1ae1c"
      },
      "source": [
        "!wget -O superclasses.zip \"https://www.dropbox.com/s/qot2pb64dtdyt5n/superclasses.zip?dl=0\""
      ],
      "execution_count": 18,
      "outputs": [
        {
          "output_type": "stream",
          "text": [
            "--2020-06-19 09:56:37--  https://www.dropbox.com/s/qot2pb64dtdyt5n/superclasses.zip?dl=0\n",
            "Resolving www.dropbox.com (www.dropbox.com)... 162.125.5.1, 2620:100:601d:1::a27d:501\n",
            "Connecting to www.dropbox.com (www.dropbox.com)|162.125.5.1|:443... connected.\n",
            "HTTP request sent, awaiting response... 301 Moved Permanently\n",
            "Location: /s/raw/qot2pb64dtdyt5n/superclasses.zip [following]\n",
            "--2020-06-19 09:56:38--  https://www.dropbox.com/s/raw/qot2pb64dtdyt5n/superclasses.zip\n",
            "Reusing existing connection to www.dropbox.com:443.\n",
            "HTTP request sent, awaiting response... 302 Found\n",
            "Location: https://uc80d105551b33e89cc03e130dd3.dl.dropboxusercontent.com/cd/0/inline/A5_TmlxpRKZS7VnBmKfiVFDHakGGMV1R0SMtRys-AWdpAixYOO66sjwto8ljEYBWaduEBzNyZYzCfcvSep65JoeVoeEw5PS-lAUanLg5IHQQqlVKHkY-uqQ9s9LoPCeuLXE/file# [following]\n",
            "--2020-06-19 09:56:38--  https://uc80d105551b33e89cc03e130dd3.dl.dropboxusercontent.com/cd/0/inline/A5_TmlxpRKZS7VnBmKfiVFDHakGGMV1R0SMtRys-AWdpAixYOO66sjwto8ljEYBWaduEBzNyZYzCfcvSep65JoeVoeEw5PS-lAUanLg5IHQQqlVKHkY-uqQ9s9LoPCeuLXE/file\n",
            "Resolving uc80d105551b33e89cc03e130dd3.dl.dropboxusercontent.com (uc80d105551b33e89cc03e130dd3.dl.dropboxusercontent.com)... 162.125.5.15, 2620:100:601d:15::a27d:50f\n",
            "Connecting to uc80d105551b33e89cc03e130dd3.dl.dropboxusercontent.com (uc80d105551b33e89cc03e130dd3.dl.dropboxusercontent.com)|162.125.5.15|:443... connected.\n",
            "HTTP request sent, awaiting response... 302 Found\n",
            "Location: /cd/0/inline2/A5_sK_ccAIZGBIVzPX_7m_WsN9KkE_zF2MOwd3kyV4Q9vfePJl7rozacifc5XHrJsmB2-OuA5zXdRDI6mSbOJaweYl39d1D0JY7ktXoXJWo642ChUexoanAqkEB3jOCA748q15lEvE7Uw5VG-Sg3po-5XmTDuSn1tPa5e5x1ZS-HEGvFMuqYa12UIfJ2ej8VKDKjv-vtq6CTGf2gqnuD6wcxOv3Z_8XyAf1uoWQS6MMFnArRabS0Y7MNFTNYVZydWWGQSE0-opWrX6_f4AbowC4YD1LhVBjcTuIJuFesq216KNCHNnOo848s_QOs3kn6RjusQlvfeSeTLR8-KgOFeVbFcwPE3m2sCEgPBl3dK_xmDw/file [following]\n",
            "--2020-06-19 09:56:39--  https://uc80d105551b33e89cc03e130dd3.dl.dropboxusercontent.com/cd/0/inline2/A5_sK_ccAIZGBIVzPX_7m_WsN9KkE_zF2MOwd3kyV4Q9vfePJl7rozacifc5XHrJsmB2-OuA5zXdRDI6mSbOJaweYl39d1D0JY7ktXoXJWo642ChUexoanAqkEB3jOCA748q15lEvE7Uw5VG-Sg3po-5XmTDuSn1tPa5e5x1ZS-HEGvFMuqYa12UIfJ2ej8VKDKjv-vtq6CTGf2gqnuD6wcxOv3Z_8XyAf1uoWQS6MMFnArRabS0Y7MNFTNYVZydWWGQSE0-opWrX6_f4AbowC4YD1LhVBjcTuIJuFesq216KNCHNnOo848s_QOs3kn6RjusQlvfeSeTLR8-KgOFeVbFcwPE3m2sCEgPBl3dK_xmDw/file\n",
            "Reusing existing connection to uc80d105551b33e89cc03e130dd3.dl.dropboxusercontent.com:443.\n",
            "HTTP request sent, awaiting response... 200 OK\n",
            "Length: 70915197 (68M) [application/zip]\n",
            "Saving to: ‘superclasses.zip’\n",
            "\n",
            "superclasses.zip    100%[===================>]  67.63M  43.8MB/s    in 1.5s    \n",
            "\n",
            "2020-06-19 09:56:41 (43.8 MB/s) - ‘superclasses.zip’ saved [70915197/70915197]\n",
            "\n"
          ],
          "name": "stdout"
        }
      ]
    },
    {
      "cell_type": "code",
      "metadata": {
        "id": "H1TtxYFGo3bj",
        "colab_type": "code",
        "colab": {}
      },
      "source": [
        "!unzip superclasses.zip"
      ],
      "execution_count": null,
      "outputs": []
    },
    {
      "cell_type": "code",
      "metadata": {
        "id": "su4QrEY2nmQS",
        "colab_type": "code",
        "colab": {}
      },
      "source": [
        "from sklearn.svm import SVC\n",
        "from upload_dataset import upload_dataset\n",
        "from matplotlib import pyplot as plt\n",
        "from sklearn.decomposition import PCA\n",
        "\n",
        "from resnet import FeaturesExtractor\n",
        "\n",
        "import numpy as np\n",
        "import cv2\n"
      ],
      "execution_count": 20,
      "outputs": []
    },
    {
      "cell_type": "code",
      "metadata": {
        "id": "ogQwMHw6ojPM",
        "colab_type": "code",
        "colab": {
          "base_uri": "https://localhost:8080/",
          "height": 87
        },
        "outputId": "718328d0-9ce0-4159-a59c-849c0dc3f01b"
      },
      "source": [
        "#Parameters initialization\n",
        "\n",
        "NUM_CLASSES = 4\n",
        "\n",
        "extractor = FeaturesExtractor()\n",
        "\n",
        "#Dataset initialization\n",
        "labels = []\n",
        "features = []\n",
        "class_list = range(4)\n",
        "\n",
        "for i in class_list: \n",
        "\n",
        "  print(\"Iteration: \", i)\n",
        "  tmp_dataset, tmp_labels = upload_dataset('superclasses/{0}/'.format(i), i)\n",
        "  labels.append(tmp_labels)\n",
        "\n",
        "  for img in tmp_dataset: \n",
        "    features.append(extractor.getFeatures(img))"
      ],
      "execution_count": 21,
      "outputs": [
        {
          "output_type": "stream",
          "text": [
            "Iteration:  0\n",
            "Iteration:  1\n",
            "Iteration:  2\n",
            "Iteration:  3\n"
          ],
          "name": "stdout"
        }
      ]
    },
    {
      "cell_type": "code",
      "metadata": {
        "id": "kiQXcZ6bqJWs",
        "colab_type": "code",
        "colab": {
          "base_uri": "https://localhost:8080/",
          "height": 35
        },
        "outputId": "51359147-d2f1-4be2-8476-24d70649be92"
      },
      "source": [
        "# Tensor conversion to numpy\n",
        "X = [t.numpy() for t in features]\n",
        "X = np.array(X) \n",
        "print(\"N Row = N Elements: {}, N Col = N Features: {}\".format(X.shape[0], X.shape[1]))"
      ],
      "execution_count": 22,
      "outputs": [
        {
          "output_type": "stream",
          "text": [
            "N Row = N Elements: 3896, N Col = N Features: 2048\n"
          ],
          "name": "stdout"
        }
      ]
    },
    {
      "cell_type": "code",
      "metadata": {
        "id": "hX5KYFh_qKlT",
        "colab_type": "code",
        "colab": {}
      },
      "source": [
        "#Labels Declaration \n",
        "y = [] \n",
        "for label_list in labels:\n",
        "  for element in label_list: \n",
        "    y.append(element)"
      ],
      "execution_count": 23,
      "outputs": []
    },
    {
      "cell_type": "code",
      "metadata": {
        "id": "QCBx8wluqL_z",
        "colab_type": "code",
        "colab": {
          "base_uri": "https://localhost:8080/",
          "height": 52
        },
        "outputId": "f27a311e-6e4b-4fac-c688-a4e9740c991c"
      },
      "source": [
        "from sklearn.model_selection import train_test_split\n",
        "random_state = 0\n",
        "# Split into train/test\n",
        "X_train, X_test, y_train, y_test = \\\n",
        "    train_test_split(X, y, test_size=0.1, stratify=y,\n",
        "                     random_state=random_state)\n",
        "\n",
        "y_train = np.array(y_train)\n",
        "y_test = np.array(y_test)\n",
        "\n",
        "print(\"N Elements train: \", X_train.shape[0])\n",
        "print(\"N Elements test: \", X_test.shape[0])"
      ],
      "execution_count": 24,
      "outputs": [
        {
          "output_type": "stream",
          "text": [
            "N Elements train:  3506\n",
            "N Elements test:  390\n"
          ],
          "name": "stdout"
        }
      ]
    },
    {
      "cell_type": "code",
      "metadata": {
        "id": "v3MzBE8bwZWK",
        "colab_type": "code",
        "colab": {}
      },
      "source": [
        "from sklearn import svm\n",
        "kernel = 'rbf'\n",
        "max_iteration = 10**6\n",
        "classifier = svm.SVC(kernel=kernel, max_iter=max_iteration, C = 2).fit(X_train, y_train)"
      ],
      "execution_count": 25,
      "outputs": []
    },
    {
      "cell_type": "code",
      "metadata": {
        "id": "8C2UGQkGq5G7",
        "colab_type": "code",
        "colab": {
          "base_uri": "https://localhost:8080/",
          "height": 295
        },
        "outputId": "2c85e4c1-7387-45e3-8fda-01f72f269af9"
      },
      "source": [
        "from sklearn.metrics import confusion_matrix\n",
        "from sklearn.metrics import plot_confusion_matrix\n",
        "\n",
        "disp = plot_confusion_matrix(classifier, X_test, y_test,\n",
        "                                 display_labels=class_list,\n",
        "                                 cmap=plt.cm.Reds,\n",
        "                                 normalize='true')\n",
        "\n",
        "disp.ax_.set_title(\"Normalized confusion matrix\")\n",
        "\n",
        "plt.show()"
      ],
      "execution_count": 26,
      "outputs": [
        {
          "output_type": "display_data",
          "data": {
            "image/png": "[encoded data removed]",
            "text/plain": [
              "<Figure size 432x288 with 2 Axes>"
            ]
          },
          "metadata": {
            "tags": [],
            "needs_background": "light"
          }
        }
      ]
    },
    {
      "cell_type": "code",
      "metadata": {
        "id": "_BOxMdhGFaZm",
        "colab_type": "code",
        "colab": {}
      },
      "source": [
        ""
      ],
      "execution_count": null,
      "outputs": []
    }
  ]
}