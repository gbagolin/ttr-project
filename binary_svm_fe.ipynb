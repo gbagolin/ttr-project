{
  "nbformat": 4,
  "nbformat_minor": 0,
  "metadata": {
    "colab": {
      "name": "binary_svm_fe.ipynb",
      "provenance": [],
      "collapsed_sections": [],
      "include_colab_link": true
    },
    "kernelspec": {
      "display_name": "Python 3",
      "name": "python3"
    }
  },
  "cells": [
    {
      "cell_type": "markdown",
      "metadata": {
        "id": "view-in-github",
        "colab_type": "text"
      },
      "source": [
        "<a href=\"https://colab.research.google.com/github/gbagolin/ttr-project/blob/master/binary_svm_fe.ipynb\" target=\"_parent\"><img src=\"https://colab.research.google.com/assets/colab-badge.svg\" alt=\"Open In Colab\"/></a>"
      ]
    },
    {
      "cell_type": "code",
      "metadata": {
        "id": "9xsWefHIZ-WT",
        "colab_type": "code",
        "colab": {}
      },
      "source": [
        "#Binary SVM, with features extractor "
      ],
      "execution_count": 0,
      "outputs": []
    },
    {
      "cell_type": "code",
      "metadata": {
        "id": "jlOq7CfGbD3z",
        "colab_type": "code",
        "colab": {}
      },
      "source": [
        "!wget -O faces.zip \"https://www.dropbox.com/s/t164dl4ulgcz5mq/faces.zip?dl=0\""
      ],
      "execution_count": 0,
      "outputs": []
    },
    {
      "cell_type": "code",
      "metadata": {
        "id": "dGrXlWQeVtMf",
        "colab_type": "code",
        "colab": {}
      },
      "source": [
        "!unzip faces.zip"
      ],
      "execution_count": 0,
      "outputs": []
    },
    {
      "cell_type": "code",
      "metadata": {
        "id": "zRTztFOuUDKK",
        "colab_type": "code",
        "outputId": "a7259df8-925f-4913-c700-4c9cb89b86f0",
        "colab": {
          "base_uri": "https://localhost:8080/",
          "height": 52
        }
      },
      "source": [
        "from sklearn.svm import SVC\n",
        "from upload_dataset import upload_dataset\n",
        "from matplotlib import pyplot as plt\n",
        "from sklearn.decomposition import PCA\n",
        "\n",
        "from resnet import FeaturesExtractor\n",
        "from upload_dataset import upload_dataset\n",
        "import numpy as np\n",
        "import cv2\n",
        "\n",
        "\n",
        "#Parameters initialization\n",
        "NUM_CLASSES = 2\n",
        "extractor = FeaturesExtractor()\n",
        "\n",
        "# Dataset initialization\n",
        "dataset = [] \n",
        "labels = []\n",
        "features = []\n",
        "class_list = [0,6]\n",
        "# [(0,1) , (1,2) , (2,3) , (3,4) , (4,5) , (5,6)]\n",
        "for i in class_list: \n",
        "\n",
        "  print(\"Upload class number: \", i)\n",
        "  tmp_dataset, tmp_labels = upload_dataset('faces/{0}/'.format(i), i // max(class_list))\n",
        "  labels.append(tmp_labels)\n",
        "\n",
        "  for img in tmp_dataset: \n",
        "    features.append(extractor.getFeatures(img))"
      ],
      "execution_count": 8,
      "outputs": [
        {
          "output_type": "stream",
          "text": [
            "Upload class number:  0\n",
            "Upload class number:  6\n"
          ],
          "name": "stdout"
        }
      ]
    },
    {
      "cell_type": "code",
      "metadata": {
        "id": "S3BJUb0Vj_Tc",
        "colab_type": "code",
        "outputId": "472309d9-062b-48fe-d058-2b868227d80f",
        "colab": {
          "base_uri": "https://localhost:8080/",
          "height": 35
        }
      },
      "source": [
        "# Tensor conversion to numpy\n",
        "X = [t.numpy() for t in features]\n",
        "X = np.array(X) \n",
        "print(\"N Row = N Elements: {}, N Col = N Features: {}\".format(X.shape[0], X.shape[1]))"
      ],
      "execution_count": 9,
      "outputs": [
        {
          "output_type": "stream",
          "text": [
            "N Row = N Elements: 1948, N Col = N Features: 2048\n"
          ],
          "name": "stdout"
        }
      ]
    },
    {
      "cell_type": "code",
      "metadata": {
        "id": "pkoKqDoemI5Z",
        "colab_type": "code",
        "colab": {}
      },
      "source": [
        "#Labels Declaration \n",
        "y = [] \n",
        "for label_list in labels:\n",
        "  for element in label_list: \n",
        "    y.append(element)"
      ],
      "execution_count": 0,
      "outputs": []
    },
    {
      "cell_type": "code",
      "metadata": {
        "id": "M6Y4Ab5qoMOM",
        "colab_type": "code",
        "outputId": "00fe3f0d-5f18-48b1-c6eb-66c34a515828",
        "colab": {
          "base_uri": "https://localhost:8080/",
          "height": 52
        }
      },
      "source": [
        "from sklearn.model_selection import train_test_split\n",
        "random_state = 0\n",
        "# Split into train/test\n",
        "X_train, X_test, y_train, y_test = \\\n",
        "    train_test_split(X, y, test_size=0.1, stratify=y,\n",
        "                     random_state=random_state)\n",
        "\n",
        "y_train = np.array(y_train)\n",
        "y_test = np.array(y_test)\n",
        "\n",
        "print(\"N Elements train: \", X_train.shape[0])\n",
        "print(\"N Elements test: \", X_test.shape[0])"
      ],
      "execution_count": 20,
      "outputs": [
        {
          "output_type": "stream",
          "text": [
            "N Elements train:  1753\n",
            "N Elements test:  195\n"
          ],
          "name": "stdout"
        }
      ]
    },
    {
      "cell_type": "code",
      "metadata": {
        "id": "jE_azP2loASj",
        "colab_type": "code",
        "outputId": "8ebec143-4f68-4e6b-f7bf-849c95f92b89",
        "colab": {
          "base_uri": "https://localhost:8080/",
          "height": 366
        }
      },
      "source": [
        "#Model, kernel and iteration declaration\n",
        "models = []\n",
        "kernel = 'rbf'\n",
        "max_iteration = 10**4\n",
        "\n",
        "model = SVC(kernel=kernel, max_iter=max_iteration) \n",
        "\n",
        "#Model training with training set\n",
        "model.fit(X_train, y_train)\n",
        "\n",
        "#Testing set classification\n",
        "predicted = model.predict(X_test)\n",
        "\n",
        "cmc = np.zeros((NUM_CLASSES,NUM_CLASSES))\n",
        "\n",
        "for pr,y_te in zip(predicted,y_test):\n",
        "  cmc[y_te,pr] += 1.0\n",
        "\n",
        "#Results analysis\n",
        "plt.imshow(cmc)\n",
        "plt.colorbar()\n",
        "plt.xlabel(\"Predicted\")\n",
        "plt.xticks([0,1],[\"First Class\",\"Second Class\"])\n",
        "plt.yticks([0,1], [\"First Class\",\"Second Class\"])\n",
        "plt.ylabel(\"Real\")\n",
        "\n",
        "accuracy = np.sum(cmc.diagonal())/np.sum(cmc)\n",
        "\n",
        "precision_0 = cmc[0,0] / np.sum(cmc[:,0])\n",
        "precision_1 = cmc[1,1]/ np.sum(cmc[:,1])\n",
        "\n",
        "recall_0 = cmc[0,0]/ np.sum(cmc[0,:])\n",
        "recall_1 = cmc[1,1]/ np.sum(cmc[1,:])\n",
        "\n",
        "print('Classifier accuracy: ' + \"{0:.2f}\".format(accuracy*100) + '%')\n",
        "print('Classifier precision wrt First Class: ' + \"{0:.2f}\".format(precision_0))\n",
        "print('Classifier precision wrt Second Class: ' + \"{0:.2f}\".format(precision_1))\n",
        "print('Classifier recall wrt First Class: ' + \"{0:.2f}\".format(recall_0))\n",
        "print('Classifier recall wrt Second Class: ' + \"{0:.2f}\".format(recall_1))\n",
        "\n",
        "plt.show()"
      ],
      "execution_count": 22,
      "outputs": [
        {
          "output_type": "stream",
          "text": [
            "Classifier accuracy: 87.69%\n",
            "Classifier precision wrt First Class: 0.91\n",
            "Classifier precision wrt Second Class: 0.85\n",
            "Classifier recall wrt First Class: 0.84\n",
            "Classifier recall wrt Second Class: 0.92\n"
          ],
          "name": "stdout"
        },
        {
          "output_type": "display_data",
          "data": {
            "image/png": "[encoded data removed]",
            "text/plain": [
              "<Figure size 432x288 with 2 Axes>"
            ]
          },
          "metadata": {
            "tags": [],
            "needs_background": "light"
          }
        }
      ]
    }
  ]
}