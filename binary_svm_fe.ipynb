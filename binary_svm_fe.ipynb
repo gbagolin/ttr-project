{
  "nbformat": 4,
  "nbformat_minor": 0,
  "metadata": {
    "colab": {
      "name": "binary_svm_fe.ipynb",
      "provenance": [],
      "collapsed_sections": [],
      "toc_visible": true,
      "include_colab_link": true
    },
    "kernelspec": {
      "display_name": "Python 3",
      "name": "python3"
    }
  },
  "cells": [
    {
      "cell_type": "markdown",
      "metadata": {
        "id": "view-in-github",
        "colab_type": "text"
      },
      "source": [
        "<a href=\"https://colab.research.google.com/github/gbagolin/ttr-project/blob/master/binary_svm_fe.ipynb\" target=\"_parent\"><img src=\"https://colab.research.google.com/assets/colab-badge.svg\" alt=\"Open In Colab\"/></a>"
      ]
    },
    {
      "cell_type": "code",
      "metadata": {
        "id": "9xsWefHIZ-WT",
        "colab_type": "code",
        "colab": {}
      },
      "source": [
        "#Binary SVM, with features extractor "
      ],
      "execution_count": 0,
      "outputs": []
    },
    {
      "cell_type": "code",
      "metadata": {
        "id": "dGrXlWQeVtMf",
        "colab_type": "code",
        "outputId": "f79fff47-4646-4ddd-a822-455b43e5ea15",
        "colab": {
          "base_uri": "https://localhost:8080/",
          "height": 52
        }
      },
      "source": [
        "!unzip faces.zip"
      ],
      "execution_count": 0,
      "outputs": [
        {
          "output_type": "stream",
          "text": [
            "Archive:  faces.zip\n",
            "replace faces/0/07510A04.jpg? [y]es, [n]o, [A]ll, [N]one, [r]ename: N\n"
          ],
          "name": "stdout"
        }
      ]
    },
    {
      "cell_type": "code",
      "metadata": {
        "id": "zRTztFOuUDKK",
        "colab_type": "code",
        "outputId": "8cda3748-0d52-4115-be24-35338fae8a42",
        "colab": {
          "base_uri": "https://localhost:8080/",
          "height": 52
        }
      },
      "source": [
        "from sklearn.svm import SVC\n",
        "from upload_dataset import upload_dataset\n",
        "from matplotlib import pyplot as plt\n",
        "from sklearn.decomposition import PCA\n",
        "\n",
        "from reshape import reshape\n",
        "from resnet import FeaturesExtractor\n",
        "from upload_dataset import upload_dataset\n",
        "import numpy as np\n",
        "import cv2\n",
        "\n",
        "\n",
        "#Parameters initialization\n",
        "NUM_CLASSES = 2\n",
        "extractor = FeaturesExtractor()\n",
        "\n",
        "# Dataset initialization\n",
        "dataset = [] \n",
        "labels = []\n",
        "features = []\n",
        "class_list = [4,5]\n",
        "# [(0,1) , (1,2) , (2,3) , (3,4) , (4,5) , (5,6)]\n",
        "for i in class_list: \n",
        "\n",
        "  print(\"Upload class number: \", i)\n",
        "  tmp_dataset, tmp_labels = upload_dataset('faces/{0}/'.format(i), i // max(class_list))\n",
        "  labels.append(tmp_labels)\n",
        "\n",
        "  for img in tmp_dataset: \n",
        "    features.append(extractor.getFeatures(img))"
      ],
      "execution_count": 18,
      "outputs": [
        {
          "output_type": "stream",
          "text": [
            "Upload class number:  4\n",
            "Upload class number:  5\n"
          ],
          "name": "stdout"
        }
      ]
    },
    {
      "cell_type": "code",
      "metadata": {
        "id": "S3BJUb0Vj_Tc",
        "colab_type": "code",
        "outputId": "47430894-b6b7-41c1-a2a9-3e5637424b3d",
        "colab": {
          "base_uri": "https://localhost:8080/",
          "height": 35
        }
      },
      "source": [
        "# Tensor conversion to numpy\n",
        "X = [t.numpy() for t in features]\n",
        "X = np.array(X) \n",
        "print(\"N Row = N Elements: {}, N Col = N Features: {}\".format(X.shape[0], X.shape[1]))"
      ],
      "execution_count": 19,
      "outputs": [
        {
          "output_type": "stream",
          "text": [
            "N Row = N Elements: 1948, N Col = N Features: 2048\n"
          ],
          "name": "stdout"
        }
      ]
    },
    {
      "cell_type": "code",
      "metadata": {
        "id": "pkoKqDoemI5Z",
        "colab_type": "code",
        "colab": {}
      },
      "source": [
        "#Labels Declaration \n",
        "y = [] \n",
        "for label_list in labels:\n",
        "  for element in label_list: \n",
        "    y.append(element)"
      ],
      "execution_count": 0,
      "outputs": []
    },
    {
      "cell_type": "code",
      "metadata": {
        "id": "M6Y4Ab5qoMOM",
        "colab_type": "code",
        "outputId": "91213018-0a40-4445-e24e-fbd5d18752a9",
        "colab": {
          "base_uri": "https://localhost:8080/",
          "height": 52
        }
      },
      "source": [
        "from sklearn.model_selection import train_test_split\n",
        "random_state = 0\n",
        "# Split into train/test\n",
        "X_train, X_test, y_train, y_test = \\\n",
        "    train_test_split(X, y, test_size=0.2, stratify=y,\n",
        "                     random_state=random_state)\n",
        "\n",
        "y_train = np.array(y_train)\n",
        "y_test = np.array(y_test)\n",
        "\n",
        "print(\"N Elements train: \", X_train.shape[0])\n",
        "print(\"N Elements test: \", X_test.shape[0])"
      ],
      "execution_count": 21,
      "outputs": [
        {
          "output_type": "stream",
          "text": [
            "N Elements train:  1558\n",
            "N Elements test:  390\n"
          ],
          "name": "stdout"
        }
      ]
    },
    {
      "cell_type": "code",
      "metadata": {
        "id": "jE_azP2loASj",
        "colab_type": "code",
        "outputId": "5c2a1fdb-10cf-4c88-c8b8-d85c8919ff60",
        "colab": {
          "base_uri": "https://localhost:8080/",
          "height": 370
        }
      },
      "source": [
        "#Model, kernel and iteration declaration\n",
        "models = []\n",
        "kernel = 'rbf'\n",
        "max_iteration = 10**4\n",
        "\n",
        "model = SVC(kernel=kernel, max_iter=max_iteration) \n",
        "\n",
        "#Model training with training set\n",
        "model.fit(X_train, y_train)\n",
        "\n",
        "#Testing set classification\n",
        "predicted = model.predict(X_test)\n",
        "\n",
        "cmc = np.zeros((NUM_CLASSES,NUM_CLASSES))\n",
        "\n",
        "for pr,y_te in zip(predicted,y_test):\n",
        "  cmc[y_te,pr] += 1.0\n",
        "\n",
        "#Results analysis\n",
        "plt.imshow(cmc)\n",
        "plt.colorbar()\n",
        "plt.xlabel(\"Predicted\")\n",
        "plt.xticks([0,1],[\"First Class\",\"Second Class\"])\n",
        "plt.yticks([0,1], [\"First Class\",\"Second Class\"])\n",
        "plt.ylabel(\"Real\")\n",
        "\n",
        "accuracy = np.sum(cmc.diagonal())/np.sum(cmc)\n",
        "\n",
        "precision_0 = cmc[0,0] / np.sum(cmc[:,0])\n",
        "precision_1 = cmc[1,1]/ np.sum(cmc[:,1])\n",
        "\n",
        "recall_0 = cmc[0,0]/ np.sum(cmc[0,:])\n",
        "recall_1 = cmc[1,1]/ np.sum(cmc[1,:])\n",
        "\n",
        "print('Classifier accuracy: ' + \"{0:.2f}\".format(accuracy*100) + '%')\n",
        "print('Classifier precision wrt First Class: ' + \"{0:.2f}\".format(precision_0))\n",
        "print('Classifier precision wrt Second Class: ' + \"{0:.2f}\".format(precision_1))\n",
        "print('Classifier recall wrt First Class: ' + \"{0:.2f}\".format(recall_0))\n",
        "print('Classifier recall wrt Second Class: ' + \"{0:.2f}\".format(recall_1))\n",
        "\n",
        "plt.show()"
      ],
      "execution_count": 22,
      "outputs": [
        {
          "output_type": "stream",
          "text": [
            "Classifier accuracy: 69.49%\n",
            "Classifier precision wrt First Class: 0.70\n",
            "Classifier precision wrt Second Class: 0.69\n",
            "Classifier recall wrt First Class: 0.67\n",
            "Classifier recall wrt Second Class: 0.72\n"
          ],
          "name": "stdout"
        },
        {
          "output_type": "display_data",
          "data": {
            "image/png": "[encoded data removed]",
            "text/plain": [
              "<Figure size 432x288 with 2 Axes>"
            ]
          },
          "metadata": {
            "tags": [],
            "needs_background": "light"
          }
        }
      ]
    }
  ]
}