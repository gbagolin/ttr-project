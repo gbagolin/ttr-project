{
  "nbformat": 4,
  "nbformat_minor": 0,
  "metadata": {
    "colab": {
      "name": "binary_svm_pca.ipynb",
      "provenance": [],
      "collapsed_sections": [],
      "include_colab_link": true
    },
    "kernelspec": {
      "display_name": "Python 3",
      "name": "python3"
    }
  },
  "cells": [
    {
      "cell_type": "markdown",
      "metadata": {
        "id": "view-in-github",
        "colab_type": "text"
      },
      "source": [
        "<a href=\"https://colab.research.google.com/github/gbagolin/ttr-project/blob/master/binary_svm_pca.ipynb\" target=\"_parent\"><img src=\"https://colab.research.google.com/assets/colab-badge.svg\" alt=\"Open In Colab\"/></a>"
      ]
    },
    {
      "cell_type": "code",
      "metadata": {
        "id": "srEO6doif-2n",
        "colab_type": "code",
        "colab": {}
      },
      "source": [
        "!wget -O faces.zip \"https://www.dropbox.com/s/t164dl4ulgcz5mq/faces.zip?dl=0\""
      ],
      "execution_count": null,
      "outputs": []
    },
    {
      "cell_type": "code",
      "metadata": {
        "id": "dGrXlWQeVtMf",
        "colab_type": "code",
        "colab": {}
      },
      "source": [
        "!unzip faces.zip"
      ],
      "execution_count": null,
      "outputs": []
    },
    {
      "cell_type": "code",
      "metadata": {
        "id": "zRTztFOuUDKK",
        "colab_type": "code",
        "colab": {
          "base_uri": "https://localhost:8080/",
          "height": 52
        },
        "outputId": "b8fbbed6-3cc9-445a-b65c-1e09bb21f8c8"
      },
      "source": [
        "from sklearn.svm import SVC\n",
        "from upload_dataset import upload_dataset\n",
        "from matplotlib import pyplot as plt\n",
        "from sklearn.decomposition import PCA\n",
        "\n",
        "from upload_dataset import upload_dataset\n",
        "import numpy as np\n",
        "import cv2\n",
        "\n",
        "\n",
        "#Parameters initialization\n",
        "NUM_CLASSES = 2\n",
        "\n",
        "# Dataset initialization\n",
        "labels = []\n",
        "features = []\n",
        "class_list = [0,6]\n",
        "for i in class_list: \n",
        "\n",
        "  print(\"Upload class number: \", i)\n",
        "  tmp_dataset, tmp_labels = upload_dataset('faces/{0}/'.format(i), i // max(class_list))\n",
        "  labels.append(tmp_labels)\n",
        "\n",
        "  for img in tmp_dataset: \n",
        "    gray = cv2.cvtColor(img, cv2.COLOR_BGR2GRAY)\n",
        "    features.append(gray.reshape((40000)))"
      ],
      "execution_count": null,
      "outputs": [
        {
          "output_type": "stream",
          "text": [
            "Upload class number:  0\n",
            "Upload class number:  6\n"
          ],
          "name": "stdout"
        }
      ]
    },
    {
      "cell_type": "code",
      "metadata": {
        "id": "Er4g5I6TFt3E",
        "colab_type": "code",
        "colab": {
          "base_uri": "https://localhost:8080/",
          "height": 35
        },
        "outputId": "2da61211-f67d-4e97-a8f0-f5a357b16b83"
      },
      "source": [
        "X = np.array(features)\n",
        "print(\"N Row = N Elements: {}, N Col = N Features: {}\".format(X.shape[0], X.shape[1]))"
      ],
      "execution_count": null,
      "outputs": [
        {
          "output_type": "stream",
          "text": [
            "N Row = N Elements: 1948, N Col = N Features: 40000\n"
          ],
          "name": "stdout"
        }
      ]
    },
    {
      "cell_type": "code",
      "metadata": {
        "id": "gyPXKsFzhT0t",
        "colab_type": "code",
        "colab": {}
      },
      "source": [
        "#Labels Declaration \n",
        "y = [] \n",
        "for label_list in labels:\n",
        "  for element in label_list: \n",
        "    y.append(element)"
      ],
      "execution_count": null,
      "outputs": []
    },
    {
      "cell_type": "code",
      "metadata": {
        "id": "M6Y4Ab5qoMOM",
        "colab_type": "code",
        "colab": {
          "base_uri": "https://localhost:8080/",
          "height": 52
        },
        "outputId": "7069fa61-968c-4623-e0d0-4989d6941a19"
      },
      "source": [
        "from sklearn.model_selection import train_test_split\n",
        "random_state = 0\n",
        "# Split into train/test\n",
        "X_train, X_test, y_train, y_test = \\\n",
        "    train_test_split(X, y, test_size=0.1, stratify=y,\n",
        "                     random_state=random_state)\n",
        "\n",
        "y_train = np.array(y_train)\n",
        "y_test = np.array(y_test)\n",
        "\n",
        "print(\"N Elements train: \", X_train.shape[0])\n",
        "print(\"N Elements test: \", X_test.shape[0])"
      ],
      "execution_count": null,
      "outputs": [
        {
          "output_type": "stream",
          "text": [
            "N Elements train:  1753\n",
            "N Elements test:  195\n"
          ],
          "name": "stdout"
        }
      ]
    },
    {
      "cell_type": "code",
      "metadata": {
        "id": "rAKLo3qj2rtG",
        "colab_type": "code",
        "colab": {
          "base_uri": "https://localhost:8080/",
          "height": 156
        },
        "outputId": "6e23e0e0-c2a6-41a2-db57-b1206e6ef63c"
      },
      "source": [
        "from sklearn.pipeline import make_pipeline\n",
        "from sklearn.neighbors import (KNeighborsClassifier,\n",
        "                               NeighborhoodComponentsAnalysis)\n",
        "from sklearn.preprocessing import StandardScaler\n",
        "#PCA model initialization\n",
        "model = make_pipeline(StandardScaler(),\n",
        "                    PCA(n_components=1000,\n",
        "                        random_state=random_state))\n",
        "#PCA model training\n",
        "model.fit(X_train, y_train)\n"
      ],
      "execution_count": null,
      "outputs": [
        {
          "output_type": "execute_result",
          "data": {
            "text/plain": [
              "Pipeline(memory=None,\n",
              "         steps=[('standardscaler',\n",
              "                 StandardScaler(copy=True, with_mean=True, with_std=True)),\n",
              "                ('pca',\n",
              "                 PCA(copy=True, iterated_power='auto', n_components=1000,\n",
              "                     random_state=0, svd_solver='auto', tol=0.0,\n",
              "                     whiten=False))],\n",
              "         verbose=False)"
            ]
          },
          "metadata": {
            "tags": []
          },
          "execution_count": 60
        }
      ]
    },
    {
      "cell_type": "code",
      "metadata": {
        "id": "jxxWy-dY5Bq8",
        "colab_type": "code",
        "colab": {}
      },
      "source": [
        "#PCA data transformation\n",
        "X_train = model.transform(X_train)\n",
        "X_test = model.transform(X_test)"
      ],
      "execution_count": null,
      "outputs": []
    },
    {
      "cell_type": "code",
      "metadata": {
        "id": "jE_azP2loASj",
        "colab_type": "code",
        "colab": {
          "base_uri": "https://localhost:8080/",
          "height": 370
        },
        "outputId": "e0de7417-7f9a-4582-de60-bf1e6368c61d"
      },
      "source": [
        "#Model, kernel and iteration declaration\n",
        "models = []\n",
        "kernel = 'rbf'\n",
        "max_iteration = 10**4\n",
        "\n",
        "model = SVC(kernel=kernel, max_iter=max_iteration) \n",
        "\n",
        "#Model training with training set\n",
        "model.fit(X_train, y_train)\n",
        "\n",
        "#Testing set classification\n",
        "predicted = model.predict(X_test)\n",
        "\n",
        "cmc = np.zeros((NUM_CLASSES,NUM_CLASSES))\n",
        "\n",
        "for pr,y_te in zip(predicted,y_test):\n",
        "  cmc[y_te,pr] += 1.0\n",
        "\n",
        "#Results analysis\n",
        "plt.imshow(cmc)\n",
        "plt.colorbar()\n",
        "plt.xlabel(\"Predicted\")\n",
        "plt.xticks([0,1],[\"First Class\",\"Second Class\"])\n",
        "plt.yticks([0,1], [\"First Class\",\"Second Class\"])\n",
        "plt.ylabel(\"Real\")\n",
        "\n",
        "accuracy = np.sum(cmc.diagonal())/np.sum(cmc)\n",
        "\n",
        "precision_0 = cmc[0,0] / np.sum(cmc[:,0])\n",
        "precision_1 = cmc[1,1]/ np.sum(cmc[:,1])\n",
        "\n",
        "recall_0 = cmc[0,0]/ np.sum(cmc[0,:])\n",
        "recall_1 = cmc[1,1]/ np.sum(cmc[1,:])\n",
        "\n",
        "print('Classifier accuracy: ' + \"{0:.2f}\".format(accuracy*100) + '%')\n",
        "print('Classifier precision wrt First Class: ' + \"{0:.2f}\".format(precision_0))\n",
        "print('Classifier precision wrt Second Class: ' + \"{0:.2f}\".format(precision_1))\n",
        "print('Classifier recall wrt First Class: ' + \"{0:.2f}\".format(recall_0))\n",
        "print('Classifier recall wrt Second Class: ' + \"{0:.2f}\".format(recall_1))\n",
        "\n",
        "plt.show()"
      ],
      "execution_count": null,
      "outputs": [
        {
          "output_type": "stream",
          "text": [
            "Classifier accuracy: 91.28%\n",
            "Classifier precision wrt First Class: 0.93\n",
            "Classifier precision wrt Second Class: 0.90\n",
            "Classifier recall wrt First Class: 0.90\n",
            "Classifier recall wrt Second Class: 0.93\n"
          ],
          "name": "stdout"
        },
        {
          "output_type": "display_data",
          "data": {
            "image/png": "[encoded data removed]",
            "text/plain": [
              "<Figure size 432x288 with 2 Axes>"
            ]
          },
          "metadata": {
            "tags": [],
            "needs_background": "light"
          }
        }
      ]
    }
  ]
}