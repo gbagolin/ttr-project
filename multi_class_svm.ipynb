{
  "nbformat": 4,
  "nbformat_minor": 0,
  "metadata": {
    "colab": {
      "name": "multi_class_svm.ipynb",
      "provenance": [],
      "collapsed_sections": [],
      "authorship_tag": "ABX9TyMeyMnwGc5T2B0YbEXm+zTM",
      "include_colab_link": true
    },
    "kernelspec": {
      "name": "python3",
      "display_name": "Python 3"
    }
  },
  "cells": [
    {
      "cell_type": "markdown",
      "metadata": {
        "id": "view-in-github",
        "colab_type": "text"
      },
      "source": [
        "<a href=\"https://colab.research.google.com/github/gbagolin/ttr-project/blob/master/multi_class_svm.ipynb\" target=\"_parent\"><img src=\"https://colab.research.google.com/assets/colab-badge.svg\" alt=\"Open In Colab\"/></a>"
      ]
    },
    {
      "cell_type": "code",
      "metadata": {
        "id": "qKL9L6-Yo16h",
        "colab_type": "code",
        "colab": {}
      },
      "source": [
        "!wget -O faces.zip \"https://www.dropbox.com/s/t164dl4ulgcz5mq/faces.zip?dl=0\""
      ],
      "execution_count": 2,
      "outputs": []
    },
    {
      "cell_type": "code",
      "metadata": {
        "id": "H1TtxYFGo3bj",
        "colab_type": "code",
        "colab": {}
      },
      "source": [
        "!unzip faces.zip"
      ],
      "execution_count": null,
      "outputs": []
    },
    {
      "cell_type": "code",
      "metadata": {
        "id": "su4QrEY2nmQS",
        "colab_type": "code",
        "colab": {}
      },
      "source": [
        "from sklearn.svm import SVC\n",
        "from upload_dataset import upload_dataset\n",
        "from matplotlib import pyplot as plt\n",
        "from sklearn.decomposition import PCA\n",
        "\n",
        "from resnet import FeaturesExtractor\n",
        "\n",
        "import numpy as np\n",
        "import cv2\n"
      ],
      "execution_count": 1,
      "outputs": []
    },
    {
      "cell_type": "code",
      "metadata": {
        "id": "ogQwMHw6ojPM",
        "colab_type": "code",
        "colab": {
          "base_uri": "https://localhost:8080/",
          "height": 139
        },
        "outputId": "7ab3824f-f873-4f54-9b12-6d9a60fa9a98"
      },
      "source": [
        "#Parameters initialization\n",
        "\n",
        "NUM_CLASSES = 7\n",
        "\n",
        "extractor = FeaturesExtractor()\n",
        "\n",
        "#Dataset initialization\n",
        "labels = []\n",
        "features = []\n",
        "class_list = range(7)\n",
        "\n",
        "for i in class_list: \n",
        "\n",
        "  print(\"Iteration: \", i)\n",
        "  tmp_dataset, tmp_labels = upload_dataset('faces/{0}/'.format(i), i)\n",
        "  labels.append(tmp_labels)\n",
        "\n",
        "  for img in tmp_dataset: \n",
        "    features.append(extractor.getFeatures(img))"
      ],
      "execution_count": 2,
      "outputs": [
        {
          "output_type": "stream",
          "text": [
            "Iteration:  0\n",
            "Iteration:  1\n",
            "Iteration:  2\n",
            "Iteration:  3\n",
            "Iteration:  4\n",
            "Iteration:  5\n",
            "Iteration:  6\n"
          ],
          "name": "stdout"
        }
      ]
    },
    {
      "cell_type": "code",
      "metadata": {
        "id": "kiQXcZ6bqJWs",
        "colab_type": "code",
        "colab": {
          "base_uri": "https://localhost:8080/",
          "height": 35
        },
        "outputId": "b0985d98-bede-4112-8568-a64146e521d0"
      },
      "source": [
        "# Tensor conversion to numpy\n",
        "X = [t.numpy() for t in features]\n",
        "X = np.array(X) \n",
        "print(\"N Row = N Elements: {}, N Col = N Features: {}\".format(X.shape[0], X.shape[1]))"
      ],
      "execution_count": 3,
      "outputs": [
        {
          "output_type": "stream",
          "text": [
            "N Row = N Elements: 6818, N Col = N Features: 2048\n"
          ],
          "name": "stdout"
        }
      ]
    },
    {
      "cell_type": "code",
      "metadata": {
        "id": "hX5KYFh_qKlT",
        "colab_type": "code",
        "colab": {}
      },
      "source": [
        "#Labels Declaration \n",
        "y = [] \n",
        "for label_list in labels:\n",
        "  for element in label_list: \n",
        "    y.append(element)"
      ],
      "execution_count": 4,
      "outputs": []
    },
    {
      "cell_type": "code",
      "metadata": {
        "id": "QCBx8wluqL_z",
        "colab_type": "code",
        "colab": {
          "base_uri": "https://localhost:8080/",
          "height": 52
        },
        "outputId": "6859581a-143f-4a3a-9c6a-7e044f2c5090"
      },
      "source": [
        "from sklearn.model_selection import train_test_split\n",
        "random_state = 0\n",
        "# Split into train/test\n",
        "X_train, X_test, y_train, y_test = \\\n",
        "    train_test_split(X, y, test_size=0.1, stratify=y,\n",
        "                     random_state=random_state)\n",
        "\n",
        "y_train = np.array(y_train)\n",
        "y_test = np.array(y_test)\n",
        "\n",
        "print(\"N Elements train: \", X_train.shape[0])\n",
        "print(\"N Elements test: \", X_test.shape[0])"
      ],
      "execution_count": 5,
      "outputs": [
        {
          "output_type": "stream",
          "text": [
            "N Elements train:  6136\n",
            "N Elements test:  682\n"
          ],
          "name": "stdout"
        }
      ]
    },
    {
      "cell_type": "code",
      "metadata": {
        "id": "v3MzBE8bwZWK",
        "colab_type": "code",
        "colab": {}
      },
      "source": [
        "from sklearn import svm\n",
        "kernel = 'rbf'\n",
        "max_iteration = 1000\n",
        "classifier = svm.SVC(kernel=kernel, max_iter=max_iteration).fit(X_train, y_train)"
      ],
      "execution_count": 17,
      "outputs": []
    },
    {
      "cell_type": "code",
      "metadata": {
        "id": "33dg7ZYHqdLy",
        "colab_type": "code",
        "colab": {}
      },
      "source": [
        "models = []\n",
        "for i in range(NUM_CLASSES):\n",
        "  models.append(SVC(kernel=kernel, max_iter=max_iteration, probability=True))\n",
        "\n",
        "# 5. Models training\n",
        "for i in range(NUM_CLASSES):\n",
        "    models[i].fit(X_train, y_train==i)"
      ],
      "execution_count": null,
      "outputs": []
    },
    {
      "cell_type": "code",
      "metadata": {
        "id": "rZldU9JYqyFG",
        "colab_type": "code",
        "colab": {}
      },
      "source": [
        "# 6. Classifico i dati del testing set e costruisco la matrice di confusione\n",
        "predicted_scores = []\n",
        "for i in range(NUM_CLASSES):\n",
        "    predicted_scores.append(models[i].predict_proba(X_test)[:,1])"
      ],
      "execution_count": null,
      "outputs": []
    },
    {
      "cell_type": "code",
      "metadata": {
        "id": "OtqRnRhQq29C",
        "colab_type": "code",
        "colab": {}
      },
      "source": [
        "predicted_scores = np.asarray(predicted_scores)\n",
        "predicted = np.argmax(predicted_scores,axis=0)"
      ],
      "execution_count": null,
      "outputs": []
    },
    {
      "cell_type": "code",
      "metadata": {
        "id": "8C2UGQkGq5G7",
        "colab_type": "code",
        "colab": {
          "base_uri": "https://localhost:8080/",
          "height": 295
        },
        "outputId": "52bc408a-f4f9-4ab8-953c-64ed5f702583"
      },
      "source": [
        "from sklearn.metrics import confusion_matrix\n",
        "from sklearn.metrics import plot_confusion_matrix\n",
        "\n",
        "disp = plot_confusion_matrix(classifier, X_test, y_test,\n",
        "                                 display_labels=class_list,\n",
        "                                 cmap=plt.cm.Greens,\n",
        "                                 normalize='true')\n",
        "\n",
        "disp.ax_.set_title(\"Normalized confusion matrix\")\n",
        "\n",
        "plt.show()"
      ],
      "execution_count": 18,
      "outputs": [
        {
          "output_type": "display_data",
          "data": {
            "image/png": "[encoded data removed]",
            "text/plain": [
              "<Figure size 432x288 with 2 Axes>"
            ]
          },
          "metadata": {
            "tags": [],
            "needs_background": "light"
          }
        }
      ]
    }
  ]
}